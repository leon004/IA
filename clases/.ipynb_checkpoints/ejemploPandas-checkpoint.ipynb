{
 "cells": [
  {
   "cell_type": "markdown",
   "metadata": {},
   "source": [
    "# Análisi, Visualización de datos con Pandas & MatplotLib\n"
   ]
  },
  {
   "cell_type": "markdown",
   "metadata": {},
   "source": [
    "En Computación y Ciencia de datos, pandas es una biblioteca de software escrita como extensión de NumPy para manipulación y análisis de datos para el lenguaje de programación Python"
   ]
  },
  {
   "cell_type": "markdown",
   "metadata": {},
   "source": [
    "En particular, ofrece estructuras de datos y operaciones para manipular tablas numéricas y series temporales. Es un software libre distribuido bajo la licencia BSD versión tres cláusulas. El nombre deriva del término \"datos de panel\", término de econometría que designa datos que combinan una dimensión temporal con otra dimensión transversal."
   ]
  },
  {
   "cell_type": "code",
   "execution_count": 14,
   "metadata": {
    "collapsed": false
   },
   "outputs": [],
   "source": [
    "import pandas as pd\n",
    "import matplotlib.pyplot as plt"
   ]
  },
  {
   "cell_type": "code",
   "execution_count": null,
   "metadata": {
    "collapsed": true
   },
   "outputs": [],
   "source": []
  },
  {
   "cell_type": "code",
   "execution_count": 6,
   "metadata": {
    "collapsed": false
   },
   "outputs": [
    {
     "data": {
      "text/html": [
       "<div>\n",
       "<style scoped>\n",
       "    .dataframe tbody tr th:only-of-type {\n",
       "        vertical-align: middle;\n",
       "    }\n",
       "\n",
       "    .dataframe tbody tr th {\n",
       "        vertical-align: top;\n",
       "    }\n",
       "\n",
       "    .dataframe thead th {\n",
       "        text-align: right;\n",
       "    }\n",
       "</style>\n",
       "<table border=\"1\" class=\"dataframe\">\n",
       "  <thead>\n",
       "    <tr style=\"text-align: right;\">\n",
       "      <th></th>\n",
       "      <th>no_de_control</th>\n",
       "      <th>carrera</th>\n",
       "      <th>reticula</th>\n",
       "      <th>especialidad</th>\n",
       "      <th>nivel_escolar</th>\n",
       "      <th>semestre</th>\n",
       "      <th>clave_interna</th>\n",
       "      <th>estatus_alumno</th>\n",
       "      <th>plan_de_estudios</th>\n",
       "      <th>apellido_paterno</th>\n",
       "      <th>...</th>\n",
       "      <th>fecha_titulo</th>\n",
       "      <th>op_titula</th>\n",
       "      <th>cedula</th>\n",
       "      <th>libro</th>\n",
       "      <th>hoja</th>\n",
       "      <th>ultimo_login</th>\n",
       "      <th>id_sesion</th>\n",
       "      <th>ip</th>\n",
       "      <th>autoriza_padres</th>\n",
       "      <th>creditos_cargados</th>\n",
       "    </tr>\n",
       "  </thead>\n",
       "  <tbody>\n",
       "    <tr>\n",
       "      <th>0</th>\n",
       "      <td>12120129</td>\n",
       "      <td>103</td>\n",
       "      <td>2010</td>\n",
       "      <td>MEC07</td>\n",
       "      <td>L</td>\n",
       "      <td>13</td>\n",
       "      <td></td>\n",
       "      <td>EGR</td>\n",
       "      <td>2</td>\n",
       "      <td>LOPEZ</td>\n",
       "      <td>...</td>\n",
       "      <td>NaN</td>\n",
       "      <td>...</td>\n",
       "      <td>NaN</td>\n",
       "      <td>0.0</td>\n",
       "      <td>0.0</td>\n",
       "      <td>2018-03-21 22:48:21</td>\n",
       "      <td>qghutra97nv228jane8mda11b3</td>\n",
       "      <td>172.17.0.1</td>\n",
       "      <td>0</td>\n",
       "      <td>32</td>\n",
       "    </tr>\n",
       "    <tr>\n",
       "      <th>1</th>\n",
       "      <td>11120287</td>\n",
       "      <td>112</td>\n",
       "      <td>2010</td>\n",
       "      <td>INF06</td>\n",
       "      <td>L</td>\n",
       "      <td>10</td>\n",
       "      <td></td>\n",
       "      <td>EGR</td>\n",
       "      <td>2</td>\n",
       "      <td>DIAZ</td>\n",
       "      <td>...</td>\n",
       "      <td>NaN</td>\n",
       "      <td>...</td>\n",
       "      <td>NaN</td>\n",
       "      <td>0.0</td>\n",
       "      <td>0.0</td>\n",
       "      <td>2016-06-20 12:00:33.39</td>\n",
       "      <td>qhqe191jvsv6lrjp6igkd3iel3</td>\n",
       "      <td>{\"ipNumber\":\"3150140285\",\"ipVersion\":4,\"ipAddr...</td>\n",
       "      <td>0</td>\n",
       "      <td>30</td>\n",
       "    </tr>\n",
       "    <tr>\n",
       "      <th>2</th>\n",
       "      <td>13120406</td>\n",
       "      <td>102</td>\n",
       "      <td>2010</td>\n",
       "      <td>IND04</td>\n",
       "      <td>L</td>\n",
       "      <td>11</td>\n",
       "      <td></td>\n",
       "      <td>EGR</td>\n",
       "      <td>2</td>\n",
       "      <td>RODRIGUEZ</td>\n",
       "      <td>...</td>\n",
       "      <td>1900-01-01 00:00:00</td>\n",
       "      <td>...</td>\n",
       "      <td>NaN</td>\n",
       "      <td>0.0</td>\n",
       "      <td>0.0</td>\n",
       "      <td>2018-01-15 22:40:38</td>\n",
       "      <td>2fknv0c45ljn5390bdla141qm6</td>\n",
       "      <td>172.17.0.1</td>\n",
       "      <td>0</td>\n",
       "      <td>34</td>\n",
       "    </tr>\n",
       "    <tr>\n",
       "      <th>3</th>\n",
       "      <td>13120417</td>\n",
       "      <td>102</td>\n",
       "      <td>2010</td>\n",
       "      <td>IND03</td>\n",
       "      <td>L</td>\n",
       "      <td>11</td>\n",
       "      <td></td>\n",
       "      <td>EGR</td>\n",
       "      <td>2</td>\n",
       "      <td>TORRES</td>\n",
       "      <td>...</td>\n",
       "      <td>1900-01-01 00:00:00</td>\n",
       "      <td>...</td>\n",
       "      <td>NaN</td>\n",
       "      <td>0.0</td>\n",
       "      <td>0.0</td>\n",
       "      <td>2018-02-06 20:21:23</td>\n",
       "      <td>jklo1714mveisvtgtkcno2jg47</td>\n",
       "      <td>172.17.0.1</td>\n",
       "      <td>0</td>\n",
       "      <td>24</td>\n",
       "    </tr>\n",
       "    <tr>\n",
       "      <th>4</th>\n",
       "      <td>00032078</td>\n",
       "      <td>103</td>\n",
       "      <td>1993</td>\n",
       "      <td>MEC02</td>\n",
       "      <td>L</td>\n",
       "      <td>3</td>\n",
       "      <td></td>\n",
       "      <td>BD1</td>\n",
       "      <td>2</td>\n",
       "      <td>GUERRERO</td>\n",
       "      <td>...</td>\n",
       "      <td>NaN</td>\n",
       "      <td>NaN</td>\n",
       "      <td>NaN</td>\n",
       "      <td>NaN</td>\n",
       "      <td>NaN</td>\n",
       "      <td>NaN</td>\n",
       "      <td>NaN</td>\n",
       "      <td>NaN</td>\n",
       "      <td>0</td>\n",
       "      <td>0</td>\n",
       "    </tr>\n",
       "  </tbody>\n",
       "</table>\n",
       "<p>5 rows × 50 columns</p>\n",
       "</div>"
      ],
      "text/plain": [
       "  no_de_control carrera  reticula especialidad nivel_escolar  semestre  \\\n",
       "0    12120129       103      2010        MEC07             L        13   \n",
       "1    11120287       112      2010        INF06             L        10   \n",
       "2    13120406       102      2010        IND04             L        11   \n",
       "3    13120417       102      2010        IND03             L        11   \n",
       "4    00032078       103      1993        MEC02             L         3   \n",
       "\n",
       "  clave_interna estatus_alumno  plan_de_estudios apellido_paterno  ...  \\\n",
       "0                          EGR                 2            LOPEZ  ...   \n",
       "1                          EGR                 2             DIAZ  ...   \n",
       "2                          EGR                 2        RODRIGUEZ  ...   \n",
       "3                          EGR                 2           TORRES  ...   \n",
       "4                          BD1                 2         GUERRERO  ...   \n",
       "\n",
       "          fecha_titulo                                          op_titula  \\\n",
       "0                  NaN                                                ...   \n",
       "1                  NaN                                                ...   \n",
       "2  1900-01-01 00:00:00                                                ...   \n",
       "3  1900-01-01 00:00:00                                                ...   \n",
       "4                  NaN                                                NaN   \n",
       "\n",
       "  cedula libro hoja            ultimo_login                   id_sesion  \\\n",
       "0    NaN   0.0  0.0     2018-03-21 22:48:21  qghutra97nv228jane8mda11b3   \n",
       "1    NaN   0.0  0.0  2016-06-20 12:00:33.39  qhqe191jvsv6lrjp6igkd3iel3   \n",
       "2    NaN   0.0  0.0     2018-01-15 22:40:38  2fknv0c45ljn5390bdla141qm6   \n",
       "3    NaN   0.0  0.0     2018-02-06 20:21:23  jklo1714mveisvtgtkcno2jg47   \n",
       "4    NaN   NaN  NaN                     NaN                         NaN   \n",
       "\n",
       "                                                  ip  autoriza_padres  \\\n",
       "0                                         172.17.0.1                0   \n",
       "1  {\"ipNumber\":\"3150140285\",\"ipVersion\":4,\"ipAddr...                0   \n",
       "2                                         172.17.0.1                0   \n",
       "3                                         172.17.0.1                0   \n",
       "4                                                NaN                0   \n",
       "\n",
       "   creditos_cargados  \n",
       "0                 32  \n",
       "1                 30  \n",
       "2                 34  \n",
       "3                 24  \n",
       "4                  0  \n",
       "\n",
       "[5 rows x 50 columns]"
      ]
     },
     "execution_count": 6,
     "metadata": {},
     "output_type": "execute_result"
    }
   ],
   "source": [
    "data = pd.read_csv('datos.csv')\n",
    "\n",
    "data.head()"
   ]
  },
  {
   "cell_type": "code",
   "execution_count": 4,
   "metadata": {
    "collapsed": false
   },
   "outputs": [
    {
     "data": {
      "text/plain": [
       "0     12120129  \n",
       "1     11120287  \n",
       "2     13120406  \n",
       "3     13120417  \n",
       "4     00032078  \n",
       "5     00050338  \n",
       "6     G04121524 \n",
       "7     G94120671 \n",
       "8     G77120394 \n",
       "9     G87120994 \n",
       "10    D98120100 \n",
       "11    G00270360 \n",
       "12    10120942  \n",
       "13    94120639  \n",
       "14    10121137  \n",
       "15    13120532  \n",
       "16    13121301  \n",
       "17    12121107  \n",
       "18    15120600  \n",
       "19    00120106  \n",
       "20    00120100  \n",
       "21    00120101  \n",
       "22    00120102  \n",
       "23    00120124  \n",
       "24    00120109  \n",
       "25    00120115  \n",
       "26    00120121  \n",
       "27    14120126  \n",
       "28    16121272  \n",
       "29    13121327  \n",
       "         ...    \n",
       "70    00120193  \n",
       "71    00120197  \n",
       "72    00120198  \n",
       "73    00120200  \n",
       "74    00120201  \n",
       "75    00120207  \n",
       "76    00120211  \n",
       "77    00120212  \n",
       "78    00120308  \n",
       "79    A10121196 \n",
       "80    00120220  \n",
       "81    00120221  \n",
       "82    00120215  \n",
       "83    00120223  \n",
       "84    00120225  \n",
       "85    00120228  \n",
       "86    00120233  \n",
       "87    00120234  \n",
       "88    00120227  \n",
       "89    00120236  \n",
       "90    00120217  \n",
       "91    00120218  \n",
       "92    00120219  \n",
       "93    00120251  \n",
       "94    00120252  \n",
       "95    00120253  \n",
       "96    00120262  \n",
       "97    00120265  \n",
       "98    00120273  \n",
       "99    00120274  \n",
       "Name: no_de_control, Length: 100, dtype: object"
      ]
     },
     "execution_count": 4,
     "metadata": {},
     "output_type": "execute_result"
    }
   ],
   "source": [
    "data.no_de_control "
   ]
  },
  {
   "cell_type": "code",
   "execution_count": 7,
   "metadata": {
    "collapsed": false
   },
   "outputs": [
    {
     "data": {
      "text/plain": [
       "52"
      ]
     },
     "execution_count": 7,
     "metadata": {},
     "output_type": "execute_result"
    }
   ],
   "source": [
    "data.nivel_escolar.count()"
   ]
  },
  {
   "cell_type": "code",
   "execution_count": 8,
   "metadata": {
    "collapsed": false
   },
   "outputs": [
    {
     "data": {
      "text/plain": [
       "(100, 50)"
      ]
     },
     "execution_count": 8,
     "metadata": {},
     "output_type": "execute_result"
    }
   ],
   "source": [
    "data.shape"
   ]
  },
  {
   "cell_type": "code",
   "execution_count": 9,
   "metadata": {
    "collapsed": false
   },
   "outputs": [],
   "source": [
    "columnas = data.columns.tolist()"
   ]
  },
  {
   "cell_type": "code",
   "execution_count": 15,
   "metadata": {
    "collapsed": false
   },
   "outputs": [
    {
     "name": "stdout",
     "output_type": "stream",
     "text": [
      "['no_de_control', 'carrera', 'reticula', 'especialidad', 'nivel_escolar', 'semestre', 'clave_interna', 'estatus_alumno', 'plan_de_estudios', 'apellido_paterno', 'apellido_materno', 'nombre_alumno', 'curp_alumno', 'fecha_nacimiento', 'sexo', 'estado_civil', 'tipo_ingreso', 'periodo_ingreso_it', 'ultimo_periodo_inscrito', 'promedio_periodo_anterior', 'promedio_aritmetico_acumulado', 'creditos_aprobados', 'creditos_cursados', 'promedio_final_alcanzado', 'tipo_servicio_medico', 'clave_servicio_medico', 'escuela_procedencia', 'tipo_escuela', 'domicilio_escuela', 'entidad_procedencia', 'ciudad_procedencia', 'correo_electronico', 'periodos_revalidacion', 'becado_por', 'nip', 'nacionalidad', 'usuario', 'fecha_actualizacion', 'folio', 'periodo_estatus', 'fecha_titulo', 'op_titula', 'cedula', 'libro', 'hoja', 'ultimo_login', 'id_sesion', 'ip', 'autoriza_padres', 'creditos_cargados']\n"
     ]
    }
   ],
   "source": [
    "print (columnas)"
   ]
  },
  {
   "cell_type": "code",
   "execution_count": 10,
   "metadata": {
    "collapsed": false
   },
   "outputs": [
    {
     "name": "stdout",
     "output_type": "stream",
     "text": [
      "Valores nulos no_de_control = 0\n",
      "Valores nulos carrera = 0\n",
      "Valores nulos reticula = 0\n",
      "Valores nulos especialidad = 4\n",
      "Valores nulos nivel_escolar = 48\n",
      "Valores nulos semestre = 0\n",
      "Valores nulos clave_interna = 54\n",
      "Valores nulos estatus_alumno = 0\n",
      "Valores nulos plan_de_estudios = 0\n",
      "Valores nulos apellido_paterno = 0\n",
      "Valores nulos apellido_materno = 0\n",
      "Valores nulos nombre_alumno = 0\n",
      "Valores nulos curp_alumno = 0\n",
      "Valores nulos fecha_nacimiento = 0\n",
      "Valores nulos sexo = 0\n",
      "Valores nulos estado_civil = 0\n",
      "Valores nulos tipo_ingreso = 0\n",
      "Valores nulos periodo_ingreso_it = 0\n",
      "Valores nulos ultimo_periodo_inscrito = 10\n",
      "Valores nulos promedio_periodo_anterior = 85\n",
      "Valores nulos promedio_aritmetico_acumulado = 10\n",
      "Valores nulos creditos_aprobados = 1\n",
      "Valores nulos creditos_cursados = 9\n",
      "Valores nulos promedio_final_alcanzado = 10\n",
      "Valores nulos tipo_servicio_medico = 84\n",
      "Valores nulos clave_servicio_medico = 0\n",
      "Valores nulos escuela_procedencia = 13\n",
      "Valores nulos tipo_escuela = 100\n",
      "Valores nulos domicilio_escuela = 100\n",
      "Valores nulos entidad_procedencia = 85\n",
      "Valores nulos ciudad_procedencia = 100\n",
      "Valores nulos correo_electronico = 83\n",
      "Valores nulos periodos_revalidacion = 0\n",
      "Valores nulos becado_por = 100\n",
      "Valores nulos nip = 0\n",
      "Valores nulos nacionalidad = 85\n",
      "Valores nulos usuario = 100\n",
      "Valores nulos fecha_actualizacion = 90\n",
      "Valores nulos folio = 100\n",
      "Valores nulos periodo_estatus = 2\n",
      "Valores nulos fecha_titulo = 95\n",
      "Valores nulos op_titula = 83\n",
      "Valores nulos cedula = 100\n",
      "Valores nulos libro = 83\n",
      "Valores nulos hoja = 83\n",
      "Valores nulos ultimo_login = 83\n",
      "Valores nulos id_sesion = 91\n",
      "Valores nulos ip = 83\n",
      "Valores nulos autoriza_padres = 0\n",
      "Valores nulos creditos_cargados = 0\n"
     ]
    }
   ],
   "source": [
    "for columna in columnas:\n",
    "    print (\"Valores nulos {0} = {1}\".format(columna, data[columna].isnull().sum()))"
   ]
  },
  {
   "cell_type": "code",
   "execution_count": 12,
   "metadata": {
    "collapsed": false
   },
   "outputs": [
    {
     "data": {
      "text/plain": [
       "100"
      ]
     },
     "execution_count": 12,
     "metadata": {},
     "output_type": "execute_result"
    }
   ],
   "source": [
    "data.sexo.count()"
   ]
  },
  {
   "cell_type": "code",
   "execution_count": 13,
   "metadata": {
    "collapsed": false
   },
   "outputs": [
    {
     "data": {
      "text/html": [
       "<div>\n",
       "<style scoped>\n",
       "    .dataframe tbody tr th:only-of-type {\n",
       "        vertical-align: middle;\n",
       "    }\n",
       "\n",
       "    .dataframe tbody tr th {\n",
       "        vertical-align: top;\n",
       "    }\n",
       "\n",
       "    .dataframe thead th {\n",
       "        text-align: right;\n",
       "    }\n",
       "</style>\n",
       "<table border=\"1\" class=\"dataframe\">\n",
       "  <thead>\n",
       "    <tr style=\"text-align: right;\">\n",
       "      <th>sexo</th>\n",
       "      <th>F</th>\n",
       "      <th>M</th>\n",
       "    </tr>\n",
       "    <tr>\n",
       "      <th>semestre</th>\n",
       "      <th></th>\n",
       "      <th></th>\n",
       "    </tr>\n",
       "  </thead>\n",
       "  <tbody>\n",
       "    <tr>\n",
       "      <th>1</th>\n",
       "      <td>0</td>\n",
       "      <td>2</td>\n",
       "    </tr>\n",
       "    <tr>\n",
       "      <th>3</th>\n",
       "      <td>0</td>\n",
       "      <td>1</td>\n",
       "    </tr>\n",
       "    <tr>\n",
       "      <th>4</th>\n",
       "      <td>0</td>\n",
       "      <td>2</td>\n",
       "    </tr>\n",
       "    <tr>\n",
       "      <th>9</th>\n",
       "      <td>16</td>\n",
       "      <td>9</td>\n",
       "    </tr>\n",
       "    <tr>\n",
       "      <th>10</th>\n",
       "      <td>13</td>\n",
       "      <td>18</td>\n",
       "    </tr>\n",
       "    <tr>\n",
       "      <th>11</th>\n",
       "      <td>3</td>\n",
       "      <td>9</td>\n",
       "    </tr>\n",
       "    <tr>\n",
       "      <th>12</th>\n",
       "      <td>2</td>\n",
       "      <td>3</td>\n",
       "    </tr>\n",
       "    <tr>\n",
       "      <th>13</th>\n",
       "      <td>0</td>\n",
       "      <td>4</td>\n",
       "    </tr>\n",
       "    <tr>\n",
       "      <th>14</th>\n",
       "      <td>0</td>\n",
       "      <td>5</td>\n",
       "    </tr>\n",
       "    <tr>\n",
       "      <th>15</th>\n",
       "      <td>1</td>\n",
       "      <td>1</td>\n",
       "    </tr>\n",
       "    <tr>\n",
       "      <th>16</th>\n",
       "      <td>0</td>\n",
       "      <td>3</td>\n",
       "    </tr>\n",
       "    <tr>\n",
       "      <th>18</th>\n",
       "      <td>1</td>\n",
       "      <td>0</td>\n",
       "    </tr>\n",
       "    <tr>\n",
       "      <th>19</th>\n",
       "      <td>0</td>\n",
       "      <td>1</td>\n",
       "    </tr>\n",
       "    <tr>\n",
       "      <th>20</th>\n",
       "      <td>0</td>\n",
       "      <td>1</td>\n",
       "    </tr>\n",
       "    <tr>\n",
       "      <th>25</th>\n",
       "      <td>0</td>\n",
       "      <td>2</td>\n",
       "    </tr>\n",
       "    <tr>\n",
       "      <th>29</th>\n",
       "      <td>0</td>\n",
       "      <td>2</td>\n",
       "    </tr>\n",
       "    <tr>\n",
       "      <th>30</th>\n",
       "      <td>1</td>\n",
       "      <td>0</td>\n",
       "    </tr>\n",
       "  </tbody>\n",
       "</table>\n",
       "</div>"
      ],
      "text/plain": [
       "sexo       F   M\n",
       "semestre        \n",
       "1          0   2\n",
       "3          0   1\n",
       "4          0   2\n",
       "9         16   9\n",
       "10        13  18\n",
       "11         3   9\n",
       "12         2   3\n",
       "13         0   4\n",
       "14         0   5\n",
       "15         1   1\n",
       "16         0   3\n",
       "18         1   0\n",
       "19         0   1\n",
       "20         0   1\n",
       "25         0   2\n",
       "29         0   2\n",
       "30         1   0"
      ]
     },
     "execution_count": 13,
     "metadata": {},
     "output_type": "execute_result"
    }
   ],
   "source": [
    "pd.crosstab(data.semestre, data.sexo)"
   ]
  },
  {
   "cell_type": "code",
   "execution_count": 15,
   "metadata": {
    "collapsed": true
   },
   "outputs": [],
   "source": [
    "figura = plt.figure(figsize=(40,40))"
   ]
  },
  {
   "cell_type": "code",
   "execution_count": 16,
   "metadata": {
    "collapsed": false
   },
   "outputs": [
    {
     "data": {
      "text/plain": [
       "<matplotlib.axes._subplots.AxesSubplot at 0x7fc9016fa240>"
      ]
     },
     "execution_count": 16,
     "metadata": {},
     "output_type": "execute_result"
    }
   ],
   "source": [
    "plt.subplot2grid((2,3),(0,0))"
   ]
  },
  {
   "cell_type": "code",
   "execution_count": 17,
   "metadata": {
    "collapsed": false
   },
   "outputs": [
    {
     "data": {
      "text/plain": [
       "M    63\n",
       "F    37\n",
       "Name: sexo, dtype: int64"
      ]
     },
     "execution_count": 17,
     "metadata": {},
     "output_type": "execute_result"
    }
   ],
   "source": [
    "data.sexo.value_counts()"
   ]
  },
  {
   "cell_type": "code",
   "execution_count": 18,
   "metadata": {
    "collapsed": false
   },
   "outputs": [
    {
     "data": {
      "text/plain": [
       "<matplotlib.axes._subplots.AxesSubplot at 0x7fc9016fa240>"
      ]
     },
     "execution_count": 18,
     "metadata": {},
     "output_type": "execute_result"
    }
   ],
   "source": [
    "data.sexo.value_counts().plot(kind='bar', alpha=0.5)"
   ]
  },
  {
   "cell_type": "code",
   "execution_count": 19,
   "metadata": {
    "collapsed": false
   },
   "outputs": [
    {
     "data": {
      "text/plain": [
       "Text(0.5, 1.0, 'Ejemplo')"
      ]
     },
     "execution_count": 19,
     "metadata": {},
     "output_type": "execute_result"
    }
   ],
   "source": [
    "plt.title('Ejemplo')"
   ]
  },
  {
   "cell_type": "code",
   "execution_count": 20,
   "metadata": {
    "collapsed": false
   },
   "outputs": [
    {
     "data": {
      "image/png": "[encoded data removed]",
      "text/plain": [
       "<Figure size 2880x2880 with 1 Axes>"
      ]
     },
     "metadata": {},
     "output_type": "display_data"
    }
   ],
   "source": [
    "plt.show()"
   ]
  },
  {
   "cell_type": "code",
   "execution_count": 23,
   "metadata": {
    "collapsed": false
   },
   "outputs": [
    {
     "data": {
      "text/plain": [
       "104    43\n",
       "103    22\n",
       "105     9\n",
       "102     5\n",
       "110     4\n",
       "301     3\n",
       "111     2\n",
       "106     2\n",
       "112     2\n",
       "302     2\n",
       "204     1\n",
       "100     1\n",
       "404     1\n",
       "306     1\n",
       "CIE     1\n",
       "108     1\n",
       "Name: carrera, dtype: int64"
      ]
     },
     "execution_count": 23,
     "metadata": {},
     "output_type": "execute_result"
    }
   ],
   "source": [
    "data.carrera.value_counts()"
   ]
  },
  {
   "cell_type": "code",
   "execution_count": 24,
   "metadata": {
    "collapsed": false
   },
   "outputs": [
    {
     "data": {
      "text/plain": [
       "[<matplotlib.lines.Line2D at 0x7fc8ff5946d8>]"
      ]
     },
     "execution_count": 24,
     "metadata": {},
     "output_type": "execute_result"
    }
   ],
   "source": [
    "plt.plot(data.carrera.value_counts())"
   ]
  },
  {
   "cell_type": "code",
   "execution_count": 25,
   "metadata": {
    "collapsed": false
   },
   "outputs": [
    {
     "data": {
      "image/png": "[encoded data removed]",
      "text/plain": [
       "<Figure size 432x288 with 1 Axes>"
      ]
     },
     "metadata": {},
     "output_type": "display_data"
    }
   ],
   "source": [
    "plt.show()"
   ]
  },
  {
   "cell_type": "code",
   "execution_count": 32,
   "metadata": {
    "collapsed": false
   },
   "outputs": [],
   "source": [
    "table = pd.crosstab(data.periodo_ingreso_it, data.sexo)"
   ]
  },
  {
   "cell_type": "code",
   "execution_count": 39,
   "metadata": {
    "collapsed": true
   },
   "outputs": [],
   "source": [
    "col = table.columns.tolist()"
   ]
  },
  {
   "cell_type": "code",
   "execution_count": 41,
   "metadata": {
    "collapsed": false
   },
   "outputs": [
    {
     "data": {
      "text/plain": [
       "[<matplotlib.lines.Line2D at 0x7fc8ff4aa5f8>,\n",
       " <matplotlib.lines.Line2D at 0x7fc8ff4aa748>]"
      ]
     },
     "execution_count": 41,
     "metadata": {},
     "output_type": "execute_result"
    }
   ],
   "source": [
    "plt.plot(pd.crosstab(data.periodo_ingreso_it, data.sexo))"
   ]
  },
  {
   "cell_type": "code",
   "execution_count": 42,
   "metadata": {
    "collapsed": false
   },
   "outputs": [
    {
     "data": {
      "text/plain": [
       "<matplotlib.legend.Legend at 0x7fc8ff4aa898>"
      ]
     },
     "execution_count": 42,
     "metadata": {},
     "output_type": "execute_result"
    }
   ],
   "source": [
    "plt.legend(col)"
   ]
  },
  {
   "cell_type": "code",
   "execution_count": 43,
   "metadata": {
    "collapsed": false
   },
   "outputs": [
    {
     "data": {
      "image/png": "[encoded data removed]",
      "text/plain": [
       "<Figure size 432x288 with 1 Axes>"
      ]
     },
     "metadata": {},
     "output_type": "display_data"
    }
   ],
   "source": [
    "plt.show()"
   ]
  },
  {
   "cell_type": "code",
   "execution_count": 44,
   "metadata": {
    "collapsed": false
   },
   "outputs": [
    {
     "data": {
      "text/html": [
       "<div>\n",
       "<style scoped>\n",
       "    .dataframe tbody tr th:only-of-type {\n",
       "        vertical-align: middle;\n",
       "    }\n",
       "\n",
       "    .dataframe tbody tr th {\n",
       "        vertical-align: top;\n",
       "    }\n",
       "\n",
       "    .dataframe thead th {\n",
       "        text-align: right;\n",
       "    }\n",
       "</style>\n",
       "<table border=\"1\" class=\"dataframe\">\n",
       "  <thead>\n",
       "    <tr style=\"text-align: right;\">\n",
       "      <th>sexo</th>\n",
       "      <th>F</th>\n",
       "      <th>M</th>\n",
       "    </tr>\n",
       "    <tr>\n",
       "      <th>periodo_ingreso_it</th>\n",
       "      <th></th>\n",
       "      <th></th>\n",
       "    </tr>\n",
       "  </thead>\n",
       "  <tbody>\n",
       "    <tr>\n",
       "      <th>19942</th>\n",
       "      <td>0</td>\n",
       "      <td>2</td>\n",
       "    </tr>\n",
       "    <tr>\n",
       "      <th>19943</th>\n",
       "      <td>1</td>\n",
       "      <td>0</td>\n",
       "    </tr>\n",
       "    <tr>\n",
       "      <th>19962</th>\n",
       "      <td>0</td>\n",
       "      <td>1</td>\n",
       "    </tr>\n",
       "    <tr>\n",
       "      <th>19983</th>\n",
       "      <td>0</td>\n",
       "      <td>1</td>\n",
       "    </tr>\n",
       "    <tr>\n",
       "      <th>19991</th>\n",
       "      <td>0</td>\n",
       "      <td>1</td>\n",
       "    </tr>\n",
       "    <tr>\n",
       "      <th>19992</th>\n",
       "      <td>0</td>\n",
       "      <td>1</td>\n",
       "    </tr>\n",
       "    <tr>\n",
       "      <th>20001</th>\n",
       "      <td>31</td>\n",
       "      <td>41</td>\n",
       "    </tr>\n",
       "    <tr>\n",
       "      <th>20041</th>\n",
       "      <td>0</td>\n",
       "      <td>2</td>\n",
       "    </tr>\n",
       "    <tr>\n",
       "      <th>20061</th>\n",
       "      <td>0</td>\n",
       "      <td>1</td>\n",
       "    </tr>\n",
       "    <tr>\n",
       "      <th>20091</th>\n",
       "      <td>0</td>\n",
       "      <td>1</td>\n",
       "    </tr>\n",
       "    <tr>\n",
       "      <th>20103</th>\n",
       "      <td>2</td>\n",
       "      <td>0</td>\n",
       "    </tr>\n",
       "    <tr>\n",
       "      <th>20111</th>\n",
       "      <td>0</td>\n",
       "      <td>2</td>\n",
       "    </tr>\n",
       "    <tr>\n",
       "      <th>20121</th>\n",
       "      <td>0</td>\n",
       "      <td>1</td>\n",
       "    </tr>\n",
       "    <tr>\n",
       "      <th>20123</th>\n",
       "      <td>0</td>\n",
       "      <td>1</td>\n",
       "    </tr>\n",
       "    <tr>\n",
       "      <th>20131</th>\n",
       "      <td>0</td>\n",
       "      <td>3</td>\n",
       "    </tr>\n",
       "    <tr>\n",
       "      <th>20133</th>\n",
       "      <td>3</td>\n",
       "      <td>2</td>\n",
       "    </tr>\n",
       "    <tr>\n",
       "      <th>20141</th>\n",
       "      <td>0</td>\n",
       "      <td>1</td>\n",
       "    </tr>\n",
       "    <tr>\n",
       "      <th>20151</th>\n",
       "      <td>0</td>\n",
       "      <td>1</td>\n",
       "    </tr>\n",
       "    <tr>\n",
       "      <th>20163</th>\n",
       "      <td>0</td>\n",
       "      <td>1</td>\n",
       "    </tr>\n",
       "  </tbody>\n",
       "</table>\n",
       "</div>"
      ],
      "text/plain": [
       "sexo                 F   M\n",
       "periodo_ingreso_it        \n",
       "19942                0   2\n",
       "19943                1   0\n",
       "19962                0   1\n",
       "19983                0   1\n",
       "19991                0   1\n",
       "19992                0   1\n",
       "20001               31  41\n",
       "20041                0   2\n",
       "20061                0   1\n",
       "20091                0   1\n",
       "20103                2   0\n",
       "20111                0   2\n",
       "20121                0   1\n",
       "20123                0   1\n",
       "20131                0   3\n",
       "20133                3   2\n",
       "20141                0   1\n",
       "20151                0   1\n",
       "20163                0   1"
      ]
     },
     "execution_count": 44,
     "metadata": {},
     "output_type": "execute_result"
    }
   ],
   "source": [
    "table"
   ]
  },
  {
   "cell_type": "code",
   "execution_count": 49,
   "metadata": {
    "collapsed": false
   },
   "outputs": [],
   "source": [
    "control = data.no_de_control.tolist()"
   ]
  },
  {
   "cell_type": "code",
   "execution_count": 53,
   "metadata": {
    "collapsed": false
   },
   "outputs": [
    {
     "data": {
      "text/plain": [
       "['11120287  ',\n",
       " '13120406  ',\n",
       " '13120417  ',\n",
       " '00032078  ',\n",
       " '00050338  ',\n",
       " 'G04121524 ',\n",
       " 'G94120671 ',\n",
       " 'G77120394 ',\n",
       " 'G87120994 ',\n",
       " 'D98120100 ',\n",
       " 'G00270360 ',\n",
       " '10120942  ',\n",
       " '94120639  ',\n",
       " '10121137  ',\n",
       " '13120532  ',\n",
       " '13121301  ',\n",
       " '12121107  ',\n",
       " '15120600  ',\n",
       " '00120106  ',\n",
       " '00120100  ',\n",
       " '00120101  ',\n",
       " '00120102  ',\n",
       " '00120124  ',\n",
       " '00120109  ',\n",
       " '00120115  ',\n",
       " '00120121  ',\n",
       " '14120126  ',\n",
       " '16121272  ',\n",
       " '13121327  ',\n",
       " '13121355  ',\n",
       " '00120037  ',\n",
       " '00120052  ',\n",
       " '00120053  ',\n",
       " '00120060  ',\n",
       " '00120131  ',\n",
       " '00120134  ',\n",
       " '00120139  ',\n",
       " '00120140  ',\n",
       " '00120143  ',\n",
       " '00120147  ',\n",
       " '00120148  ',\n",
       " '13121305  ',\n",
       " '00120150  ',\n",
       " '00120151  ',\n",
       " '00120152  ',\n",
       " 'G88120620 ',\n",
       " '00120155  ',\n",
       " '00120156  ',\n",
       " '00120164  ',\n",
       " 'G82121235 ',\n",
       " '13121361  ',\n",
       " '00120129  ',\n",
       " '00120180  ',\n",
       " '00120182  ',\n",
       " '00120183  ',\n",
       " '00120184  ',\n",
       " '00120185  ',\n",
       " '00120186  ',\n",
       " '00120166  ',\n",
       " '00120168  ',\n",
       " '00120169  ',\n",
       " '00120171  ',\n",
       " '00120175  ',\n",
       " '00120210  ',\n",
       " '00120187  ',\n",
       " '00120188  ',\n",
       " '00120189  ',\n",
       " '00120190  ',\n",
       " '00120192  ',\n",
       " '00120193  ',\n",
       " '00120197  ',\n",
       " '00120198  ',\n",
       " '00120200  ',\n",
       " '00120201  ',\n",
       " '00120207  ',\n",
       " '00120211  ',\n",
       " '00120212  ',\n",
       " '00120308  ',\n",
       " 'A10121196 ',\n",
       " '00120220  ',\n",
       " '00120221  ',\n",
       " '00120215  ',\n",
       " '00120223  ',\n",
       " '00120225  ',\n",
       " '00120228  ',\n",
       " '00120233  ',\n",
       " '00120234  ',\n",
       " '00120227  ',\n",
       " '00120236  ']"
      ]
     },
     "execution_count": 53,
     "metadata": {},
     "output_type": "execute_result"
    }
   ],
   "source": [
    "control[1:90]"
   ]
  },
  {
   "cell_type": "code",
   "execution_count": null,
   "metadata": {
    "collapsed": true
   },
   "outputs": [],
   "source": []
  }
 ],
 "metadata": {
  "kernelspec": {
   "display_name": "Python 3",
   "language": "python",
   "name": "python3"
  },
  "language_info": {
   "codemirror_mode": {
    "name": "ipython",
    "version": 3
   },
   "file_extension": ".py",
   "mimetype": "text/x-python",
   "name": "python",
   "nbconvert_exporter": "python",
   "pygments_lexer": "ipython3",
   "version": "3.5.3"
  }
 },
 "nbformat": 4,
 "nbformat_minor": 2
}
