{
 "cells": [
  {
   "cell_type": "markdown",
   "metadata": {},
   "source": [
    "# Similitud coseno\n",
    "\n",
    "\n",
    "La similitud coseno es una medida de la similitud existente entre dos vectores en un espacio que posee un producto interior con el que se evalúa el valor del coseno del ángulo comprendido entre ellos. Esta función trigonométrica proporciona un valor igual a 1 si el ángulo comprendido es cero, es decir si ambos vectores apuntan a un mismo lugar. Cualquier ángulo existente entre los vectores, el coseno arrojaría un valor inferior a uno. Si los vectores fuesen ortogonales el coseno se anularía, y si apuntasen en sentido contrario su valor sería -1. De esta forma, el valor de esta métrica se encuentra entre -1 y 1, es decir en el intervalo cerrado [-1,1].\n",
    "\n",
    "Esta distancia se emplea frecuentemente en la búsqueda y recuperación de información representando las palabras (o documento) en un espacio vectorial. En minería de textos se aplica la similitud coseno con el objeto de establecer una métrica de semejanza entre textos. En minería de datos se suele emplear como un indicador de cohesión de clústeres de textos. La similitud coseno no debe ser considerada como una métrica debido a que no cumple la desigualdad triangular."
   ]
  },
  {
   "cell_type": "markdown",
   "metadata": {},
   "source": [
    "Un enfoque comúnmente utilizado para unir documentos similares se basa en contar el número máximo de palabras comunes entre los documentos.\n",
    "\n",
    "Pero este enfoque tiene un defecto inherente. Es decir, a medida que aumenta el tamaño del documento, el número de palabras comunes tiende a aumentar incluso si los documentos hablan de diferentes temas.\n",
    "\n",
    "La similitud del coseno ayuda a superar este defecto fundamental en el enfoque de \"distancia de palabras comunes\" o distancia euclidiana.\n"
   ]
  },
  {
   "cell_type": "markdown",
   "metadata": {},
   "source": [
    "# ¿Cual es la ventaja?\n",
    "\n",
    "\n",
    "La similitud de coseno es una métrica utilizada para determinar qué tan similares son los documentos, independientemente de su tamaño.\n",
    "\n",
    "Matemáticamente, mide el coseno del ángulo entre dos vectores proyectados en un espacio multidimensional. En este contexto, los dos vectores son matrices que contienen la frecuencia  de palabras de dos documentos.\n",
    "\n",
    "Como métrica de similitud, ¿cómo difiere el algoritmo del número de palabras comunes?\n",
    "\n",
    "Cuando se traza en un espacio multidimensional, donde cada dimensión corresponde a una palabra en el documento, la similitud del coseno captura la orientación (el ángulo) de los documentos y no la magnitud. Si se desea la magnitud, se puede calcular la distancia euclidiana en su lugar.\n",
    "\n",
    "La similitud  coseno es ventajosa porque incluso si los dos documentos similares están muy separados por la distancia euclidiana debido al tamaño (como, la palabra 'grillo' apareció 50 veces en un documento y 10 veces en otro) aún podrían tener un ángulo más pequeño entre ellos. Cuanto menor es el ángulo, mayor es la similitud."
   ]
  },
  {
   "cell_type": "markdown",
   "metadata": {},
   "source": [
    "# Ejemplo de similitud de coseno\n",
    "\n",
    "Supongamos que se tiene 3 documentos basados en un par de  jugadores de cricket estrella: Sachin, Tendulkar y Dhoni. Dos de los documentos (A) y (B) son de las páginas de wikipedia en los respectivos jugadores y el tercer documento (C) es un fragmento más pequeño de la página de Wikipedia de Dhoni.\n",
    "\n",
    "<img src='cs2.png'>\n",
    "\n",
    "\n",
    "Como se puede ver, los tres documentos están conectados por un tema común: el juego de Cricket.\n",
    "\n",
    "Nuestro objetivo es estimar cuantitativamente la similitud entre los documentos. Para facilitar la comprensión, consideremos solo las 3 palabras más comunes entre los documentos: 'Dhoni', 'Sachin' y 'Cricket'. Es de esperar que  A y  C , es decir, los dos documentos en Dhoni tengan una mayor similitud con  A y  B , porque,  C es esencialmente un fragmento del de  A. Sin embargo, si vamos por el número de palabras comunes, los dos documentos más grandes tendrán las palabras más comunes y, por lo tanto, se considerán más similares, que es exactamente lo que queremos evitar. Los resultados serían más congruentes cuando utilizamos el puntaje de similitud de coseno para evaluar la similitud.\n",
    "\n",
    "\n",
    "Proyectemos los documentos en un espacio tridimensional, donde cada dimensión es un recuento de frecuencia de: 'Sachin', 'Dhoni' o 'Cricket'. Cuando se traza en este espacio, los 3 documentos aparecerían algo así.\n",
    "\n",
    "<img src='cs3.png'>\n",
    "\n",
    "Como se puede ver, el Documento de  Dhoni_Small y el Documento Dhoni principal están orientados más juntos en el espacio tridimensional, a pesar de que están muy separados por magnitud.\n",
    "\n",
    "Resulta que cuanto más cerca están los documentos por ángulo, mayor es la similitud de coseno.\n",
    "\n",
    "<img src='fcs.png'>\n",
    "\n",
    "\n",
    "A medida que incluye más palabras del documento, es más difícil visualizar un espacio dimensional superior. Pero puede calcular directamente la similitud del coseno utilizando esta fórmula matemática."
   ]
  },
  {
   "cell_type": "code",
   "execution_count": 1,
   "metadata": {},
   "outputs": [],
   "source": [
    "from sklearn.metrics.pairwise import cosine_similarity\n",
    "import numpy as np\n",
    "%config IPCompleter.greedy=True\n",
    "\n"
   ]
  },
  {
   "cell_type": "code",
   "execution_count": 2,
   "metadata": {},
   "outputs": [],
   "source": [
    "vec1 = np.array([[1,1,0,1,1]])\n",
    "vec2 = np.array([[0,1,0,1,1]])"
   ]
  },
  {
   "cell_type": "code",
   "execution_count": 3,
   "metadata": {},
   "outputs": [
    {
     "name": "stdout",
     "output_type": "stream",
     "text": [
      "[[0.8660254]]\n"
     ]
    }
   ],
   "source": [
    "print(cosine_similarity(vec1, vec2))"
   ]
  },
  {
   "cell_type": "code",
   "execution_count": 4,
   "metadata": {},
   "outputs": [],
   "source": [
    "#Defenimos la data\n",
    "tw1 = \"Realizarán patrullajes de vigilancia en distintos puntos de la ciudad; se quedarán el tiempo que sea necesario hasta que la tranquilidad se restablezca\" \n",
    "nt1 = \"Con el objetivo de reforzar la protección a la población civil, un contingente de 230 elementos de la Secretaría de la Defensa Nacional (Sedena) arribó la noche de este viernes a Culiacán, luego del violento episodio ocurrido el pasado jueves 17 de octubre.\" \n",
    "tw2 = \"Personal del #EjércitoyFAM perteneciente al 22/o. Batallón de Infantería en coordinación con autoridades municipales llevaron a cabo la campaña “Canje de Armas de Fuego por Vales de Despensa” en el municipio de Los Aldama,\" \n",
    "tw3 = \"La @SEDENAmx despliega a 230 elementos para reforzar la seguridad en Culiacán, luego de la jornada violenta que terminó en la liberación de Ovidio Guzmán, uno de los hijos de El Chapo.\"\n",
    "twits = [tw1, nt1, tw2, tw3] "
   ]
  },
  {
   "cell_type": "code",
   "execution_count": 5,
   "metadata": {},
   "outputs": [
    {
     "data": {
      "text/html": [
       "<div>\n",
       "<style scoped>\n",
       "    .dataframe tbody tr th:only-of-type {\n",
       "        vertical-align: middle;\n",
       "    }\n",
       "\n",
       "    .dataframe tbody tr th {\n",
       "        vertical-align: top;\n",
       "    }\n",
       "\n",
       "    .dataframe thead th {\n",
       "        text-align: right;\n",
       "    }\n",
       "</style>\n",
       "<table border=\"1\" class=\"dataframe\">\n",
       "  <thead>\n",
       "    <tr style=\"text-align: right;\">\n",
       "      <th></th>\n",
       "      <th>17</th>\n",
       "      <th>22</th>\n",
       "      <th>230</th>\n",
       "      <th>al</th>\n",
       "      <th>aldama</th>\n",
       "      <th>armas</th>\n",
       "      <th>arribó</th>\n",
       "      <th>autoridades</th>\n",
       "      <th>batallón</th>\n",
       "      <th>cabo</th>\n",
       "      <th>...</th>\n",
       "      <th>terminó</th>\n",
       "      <th>tiempo</th>\n",
       "      <th>tranquilidad</th>\n",
       "      <th>un</th>\n",
       "      <th>uno</th>\n",
       "      <th>vales</th>\n",
       "      <th>viernes</th>\n",
       "      <th>vigilancia</th>\n",
       "      <th>violenta</th>\n",
       "      <th>violento</th>\n",
       "    </tr>\n",
       "  </thead>\n",
       "  <tbody>\n",
       "    <tr>\n",
       "      <td>tw1</td>\n",
       "      <td>0</td>\n",
       "      <td>0</td>\n",
       "      <td>0</td>\n",
       "      <td>0</td>\n",
       "      <td>0</td>\n",
       "      <td>0</td>\n",
       "      <td>0</td>\n",
       "      <td>0</td>\n",
       "      <td>0</td>\n",
       "      <td>0</td>\n",
       "      <td>...</td>\n",
       "      <td>0</td>\n",
       "      <td>1</td>\n",
       "      <td>1</td>\n",
       "      <td>0</td>\n",
       "      <td>0</td>\n",
       "      <td>0</td>\n",
       "      <td>0</td>\n",
       "      <td>1</td>\n",
       "      <td>0</td>\n",
       "      <td>0</td>\n",
       "    </tr>\n",
       "    <tr>\n",
       "      <td>nt1</td>\n",
       "      <td>1</td>\n",
       "      <td>0</td>\n",
       "      <td>1</td>\n",
       "      <td>0</td>\n",
       "      <td>0</td>\n",
       "      <td>0</td>\n",
       "      <td>1</td>\n",
       "      <td>0</td>\n",
       "      <td>0</td>\n",
       "      <td>0</td>\n",
       "      <td>...</td>\n",
       "      <td>0</td>\n",
       "      <td>0</td>\n",
       "      <td>0</td>\n",
       "      <td>1</td>\n",
       "      <td>0</td>\n",
       "      <td>0</td>\n",
       "      <td>1</td>\n",
       "      <td>0</td>\n",
       "      <td>0</td>\n",
       "      <td>1</td>\n",
       "    </tr>\n",
       "    <tr>\n",
       "      <td>tw2</td>\n",
       "      <td>0</td>\n",
       "      <td>1</td>\n",
       "      <td>0</td>\n",
       "      <td>1</td>\n",
       "      <td>1</td>\n",
       "      <td>1</td>\n",
       "      <td>0</td>\n",
       "      <td>1</td>\n",
       "      <td>1</td>\n",
       "      <td>1</td>\n",
       "      <td>...</td>\n",
       "      <td>0</td>\n",
       "      <td>0</td>\n",
       "      <td>0</td>\n",
       "      <td>0</td>\n",
       "      <td>0</td>\n",
       "      <td>1</td>\n",
       "      <td>0</td>\n",
       "      <td>0</td>\n",
       "      <td>0</td>\n",
       "      <td>0</td>\n",
       "    </tr>\n",
       "    <tr>\n",
       "      <td>tw3</td>\n",
       "      <td>0</td>\n",
       "      <td>0</td>\n",
       "      <td>1</td>\n",
       "      <td>0</td>\n",
       "      <td>0</td>\n",
       "      <td>0</td>\n",
       "      <td>0</td>\n",
       "      <td>0</td>\n",
       "      <td>0</td>\n",
       "      <td>0</td>\n",
       "      <td>...</td>\n",
       "      <td>1</td>\n",
       "      <td>0</td>\n",
       "      <td>0</td>\n",
       "      <td>0</td>\n",
       "      <td>1</td>\n",
       "      <td>0</td>\n",
       "      <td>0</td>\n",
       "      <td>0</td>\n",
       "      <td>1</td>\n",
       "      <td>0</td>\n",
       "    </tr>\n",
       "  </tbody>\n",
       "</table>\n",
       "<p>4 rows × 82 columns</p>\n",
       "</div>"
      ],
      "text/plain": [
       "     17  22  230  al  aldama  armas  arribó  autoridades  batallón  cabo  ...  \\\n",
       "tw1   0   0    0   0       0      0       0            0         0     0  ...   \n",
       "nt1   1   0    1   0       0      0       1            0         0     0  ...   \n",
       "tw2   0   1    0   1       1      1       0            1         1     1  ...   \n",
       "tw3   0   0    1   0       0      0       0            0         0     0  ...   \n",
       "\n",
       "     terminó  tiempo  tranquilidad  un  uno  vales  viernes  vigilancia  \\\n",
       "tw1        0       1             1   0    0      0        0           1   \n",
       "nt1        0       0             0   1    0      0        1           0   \n",
       "tw2        0       0             0   0    0      1        0           0   \n",
       "tw3        1       0             0   0    1      0        0           0   \n",
       "\n",
       "     violenta  violento  \n",
       "tw1         0         0  \n",
       "nt1         0         1  \n",
       "tw2         0         0  \n",
       "tw3         1         0  \n",
       "\n",
       "[4 rows x 82 columns]"
      ]
     },
     "execution_count": 5,
     "metadata": {},
     "output_type": "execute_result"
    }
   ],
   "source": [
    "# Scikit Learn\n",
    "from sklearn.feature_extraction.text import CountVectorizer\n",
    "import pandas as pd\n",
    "\n",
    "# Crear tabla de frecuencias\n",
    "count_vectorizer = CountVectorizer(stop_words='spanish')\n",
    "count_vectorizer = CountVectorizer()\n",
    "matrix = count_vectorizer.fit_transform(twits)\n",
    "\n",
    "\n",
    "# utilizacion de pandas para generar la matriz de frecuencias \n",
    "data_matrix = matrix.todense()\n",
    "frecuencias = pd.DataFrame(data_matrix, \n",
    "                  columns=count_vectorizer.get_feature_names(), \n",
    "                  index=['tw1', 'nt1', 'tw2', 'tw3'])\n",
    "frecuencias"
   ]
  },
  {
   "cell_type": "code",
   "execution_count": 6,
   "metadata": {},
   "outputs": [
    {
     "data": {
      "text/html": [
       "<div>\n",
       "<style scoped>\n",
       "    .dataframe tbody tr th:only-of-type {\n",
       "        vertical-align: middle;\n",
       "    }\n",
       "\n",
       "    .dataframe tbody tr th {\n",
       "        vertical-align: top;\n",
       "    }\n",
       "\n",
       "    .dataframe thead th {\n",
       "        text-align: right;\n",
       "    }\n",
       "</style>\n",
       "<table border=\"1\" class=\"dataframe\">\n",
       "  <thead>\n",
       "    <tr style=\"text-align: right;\">\n",
       "      <th></th>\n",
       "      <th>17</th>\n",
       "      <th>22</th>\n",
       "      <th>230</th>\n",
       "      <th>al</th>\n",
       "      <th>aldama</th>\n",
       "      <th>armas</th>\n",
       "      <th>arribó</th>\n",
       "      <th>autoridades</th>\n",
       "    </tr>\n",
       "  </thead>\n",
       "  <tbody>\n",
       "    <tr>\n",
       "      <td>tw1</td>\n",
       "      <td>0</td>\n",
       "      <td>0</td>\n",
       "      <td>0</td>\n",
       "      <td>0</td>\n",
       "      <td>0</td>\n",
       "      <td>0</td>\n",
       "      <td>0</td>\n",
       "      <td>0</td>\n",
       "    </tr>\n",
       "    <tr>\n",
       "      <td>nt1</td>\n",
       "      <td>1</td>\n",
       "      <td>0</td>\n",
       "      <td>1</td>\n",
       "      <td>0</td>\n",
       "      <td>0</td>\n",
       "      <td>0</td>\n",
       "      <td>1</td>\n",
       "      <td>0</td>\n",
       "    </tr>\n",
       "    <tr>\n",
       "      <td>tw2</td>\n",
       "      <td>0</td>\n",
       "      <td>1</td>\n",
       "      <td>0</td>\n",
       "      <td>1</td>\n",
       "      <td>1</td>\n",
       "      <td>1</td>\n",
       "      <td>0</td>\n",
       "      <td>1</td>\n",
       "    </tr>\n",
       "  </tbody>\n",
       "</table>\n",
       "</div>"
      ],
      "text/plain": [
       "     17  22  230  al  aldama  armas  arribó  autoridades\n",
       "tw1   0   0    0   0       0      0       0            0\n",
       "nt1   1   0    1   0       0      0       1            0\n",
       "tw2   0   1    0   1       1      1       0            1"
      ]
     },
     "execution_count": 6,
     "metadata": {},
     "output_type": "execute_result"
    }
   ],
   "source": [
    "frecuencias.loc[\"tw1\":\"tw2\", \"17\":\"batallon\"]"
   ]
  },
  {
   "cell_type": "code",
   "execution_count": 16,
   "metadata": {},
   "outputs": [
    {
     "data": {
      "text/plain": [
       "17              0\n",
       "22              0\n",
       "230             0\n",
       "al              0\n",
       "aldama          0\n",
       "armas           0\n",
       "arribó          0\n",
       "autoridades     0\n",
       "batallón        0\n",
       "cabo            0\n",
       "campaña         0\n",
       "canje           0\n",
       "chapo           0\n",
       "ciudad          1\n",
       "civil           0\n",
       "con             0\n",
       "contingente     0\n",
       "coordinación    0\n",
       "culiacán        0\n",
       "de              2\n",
       "defensa         0\n",
       "del             0\n",
       "despensa        0\n",
       "despliega       0\n",
       "distintos       1\n",
       "ejércitoyfam    0\n",
       "el              1\n",
       "elementos       0\n",
       "en              1\n",
       "episodio        0\n",
       "este            0\n",
       "fuego           0\n",
       "guzmán          0\n",
       "hasta           1\n",
       "hijos           0\n",
       "infantería      0\n",
       "jornada         0\n",
       "jueves          0\n",
       "la              2\n",
       "liberación      0\n",
       "Name: tw1, dtype: int64"
      ]
     },
     "execution_count": 16,
     "metadata": {},
     "output_type": "execute_result"
    }
   ],
   "source": [
    "frecuencias.loc['tw1',:].head(40)"
   ]
  },
  {
   "cell_type": "code",
   "execution_count": 8,
   "metadata": {},
   "outputs": [],
   "source": [
    "salida = cosine_similarity(frecuencias, frecuencias)"
   ]
  },
  {
   "cell_type": "code",
   "execution_count": 17,
   "metadata": {},
   "outputs": [
    {
     "data": {
      "text/plain": [
       "array([[1.        , 0.44698085, 0.36326961, 0.49957537],\n",
       "       [0.44698085, 1.        , 0.5453079 , 0.7004728 ],\n",
       "       [0.36326961, 0.5453079 , 1.        , 0.53579972],\n",
       "       [0.49957537, 0.7004728 , 0.53579972, 1.        ]])"
      ]
     },
     "execution_count": 17,
     "metadata": {},
     "output_type": "execute_result"
    }
   ],
   "source": [
    "salida"
   ]
  },
  {
   "cell_type": "code",
   "execution_count": 9,
   "metadata": {},
   "outputs": [
    {
     "data": {
      "text/plain": [
       "['17',\n",
       " '22',\n",
       " '230',\n",
       " 'al',\n",
       " 'aldama',\n",
       " 'armas',\n",
       " 'arribó',\n",
       " 'autoridades',\n",
       " 'batallón',\n",
       " 'cabo',\n",
       " 'campaña',\n",
       " 'canje',\n",
       " 'chapo',\n",
       " 'ciudad',\n",
       " 'civil',\n",
       " 'con',\n",
       " 'contingente',\n",
       " 'coordinación',\n",
       " 'culiacán',\n",
       " 'de',\n",
       " 'defensa',\n",
       " 'del',\n",
       " 'despensa',\n",
       " 'despliega',\n",
       " 'distintos',\n",
       " 'ejércitoyfam',\n",
       " 'el',\n",
       " 'elementos',\n",
       " 'en',\n",
       " 'episodio',\n",
       " 'este',\n",
       " 'fuego',\n",
       " 'guzmán',\n",
       " 'hasta',\n",
       " 'hijos',\n",
       " 'infantería',\n",
       " 'jornada',\n",
       " 'jueves',\n",
       " 'la',\n",
       " 'liberación',\n",
       " 'llevaron',\n",
       " 'los',\n",
       " 'luego',\n",
       " 'municipales',\n",
       " 'municipio',\n",
       " 'nacional',\n",
       " 'necesario',\n",
       " 'noche',\n",
       " 'objetivo',\n",
       " 'octubre',\n",
       " 'ocurrido',\n",
       " 'ovidio',\n",
       " 'para',\n",
       " 'pasado',\n",
       " 'patrullajes',\n",
       " 'personal',\n",
       " 'perteneciente',\n",
       " 'población',\n",
       " 'por',\n",
       " 'protección',\n",
       " 'puntos',\n",
       " 'que',\n",
       " 'quedarán',\n",
       " 'realizarán',\n",
       " 'reforzar',\n",
       " 'restablezca',\n",
       " 'se',\n",
       " 'sea',\n",
       " 'secretaría',\n",
       " 'sedena',\n",
       " 'sedenamx',\n",
       " 'seguridad',\n",
       " 'terminó',\n",
       " 'tiempo',\n",
       " 'tranquilidad',\n",
       " 'un',\n",
       " 'uno',\n",
       " 'vales',\n",
       " 'viernes',\n",
       " 'vigilancia',\n",
       " 'violenta',\n",
       " 'violento']"
      ]
     },
     "execution_count": 9,
     "metadata": {},
     "output_type": "execute_result"
    }
   ],
   "source": [
    "count_vectorizer.get_feature_names()"
   ]
  },
  {
   "cell_type": "code",
   "execution_count": 10,
   "metadata": {},
   "outputs": [
    {
     "data": {
      "text/plain": [
       "{'realizarán': 63,\n",
       " 'patrullajes': 54,\n",
       " 'de': 19,\n",
       " 'vigilancia': 79,\n",
       " 'en': 28,\n",
       " 'distintos': 24,\n",
       " 'puntos': 60,\n",
       " 'la': 38,\n",
       " 'ciudad': 13,\n",
       " 'se': 66,\n",
       " 'quedarán': 62,\n",
       " 'el': 26,\n",
       " 'tiempo': 73,\n",
       " 'que': 61,\n",
       " 'sea': 67,\n",
       " 'necesario': 46,\n",
       " 'hasta': 33,\n",
       " 'tranquilidad': 74,\n",
       " 'restablezca': 65,\n",
       " 'con': 15,\n",
       " 'objetivo': 48,\n",
       " 'reforzar': 64,\n",
       " 'protección': 59,\n",
       " 'población': 57,\n",
       " 'civil': 14,\n",
       " 'un': 75,\n",
       " 'contingente': 16,\n",
       " '230': 2,\n",
       " 'elementos': 27,\n",
       " 'secretaría': 68,\n",
       " 'defensa': 20,\n",
       " 'nacional': 45,\n",
       " 'sedena': 69,\n",
       " 'arribó': 6,\n",
       " 'noche': 47,\n",
       " 'este': 30,\n",
       " 'viernes': 78,\n",
       " 'culiacán': 18,\n",
       " 'luego': 42,\n",
       " 'del': 21,\n",
       " 'violento': 81,\n",
       " 'episodio': 29,\n",
       " 'ocurrido': 50,\n",
       " 'pasado': 53,\n",
       " 'jueves': 37,\n",
       " '17': 0,\n",
       " 'octubre': 49,\n",
       " 'personal': 55,\n",
       " 'ejércitoyfam': 25,\n",
       " 'perteneciente': 56,\n",
       " 'al': 3,\n",
       " '22': 1,\n",
       " 'batallón': 8,\n",
       " 'infantería': 35,\n",
       " 'coordinación': 17,\n",
       " 'autoridades': 7,\n",
       " 'municipales': 43,\n",
       " 'llevaron': 40,\n",
       " 'cabo': 9,\n",
       " 'campaña': 10,\n",
       " 'canje': 11,\n",
       " 'armas': 5,\n",
       " 'fuego': 31,\n",
       " 'por': 58,\n",
       " 'vales': 77,\n",
       " 'despensa': 22,\n",
       " 'municipio': 44,\n",
       " 'los': 41,\n",
       " 'aldama': 4,\n",
       " 'sedenamx': 70,\n",
       " 'despliega': 23,\n",
       " 'para': 52,\n",
       " 'seguridad': 71,\n",
       " 'jornada': 36,\n",
       " 'violenta': 80,\n",
       " 'terminó': 72,\n",
       " 'liberación': 39,\n",
       " 'ovidio': 51,\n",
       " 'guzmán': 32,\n",
       " 'uno': 76,\n",
       " 'hijos': 34,\n",
       " 'chapo': 12}"
      ]
     },
     "execution_count": 10,
     "metadata": {},
     "output_type": "execute_result"
    }
   ],
   "source": [
    "count_vectorizer.vocabulary_"
   ]
  },
  {
   "cell_type": "code",
   "execution_count": 11,
   "metadata": {},
   "outputs": [
    {
     "data": {
      "text/plain": [
       "['17',\n",
       " '22',\n",
       " '230',\n",
       " 'al',\n",
       " 'aldama',\n",
       " 'armas',\n",
       " 'arribó',\n",
       " 'autoridades',\n",
       " 'batallón',\n",
       " 'cabo',\n",
       " 'campaña',\n",
       " 'canje',\n",
       " 'chapo',\n",
       " 'ciudad',\n",
       " 'civil',\n",
       " 'con',\n",
       " 'contingente',\n",
       " 'coordinación',\n",
       " 'culiacán',\n",
       " 'de',\n",
       " 'defensa',\n",
       " 'del',\n",
       " 'despensa',\n",
       " 'despliega',\n",
       " 'distintos',\n",
       " 'ejércitoyfam',\n",
       " 'el',\n",
       " 'elementos',\n",
       " 'en',\n",
       " 'episodio',\n",
       " 'este',\n",
       " 'fuego',\n",
       " 'guzmán',\n",
       " 'hasta',\n",
       " 'hijos',\n",
       " 'infantería',\n",
       " 'jornada',\n",
       " 'jueves',\n",
       " 'la',\n",
       " 'liberación',\n",
       " 'llevaron',\n",
       " 'los',\n",
       " 'luego',\n",
       " 'municipales',\n",
       " 'municipio',\n",
       " 'nacional',\n",
       " 'necesario',\n",
       " 'noche',\n",
       " 'objetivo',\n",
       " 'octubre',\n",
       " 'ocurrido',\n",
       " 'ovidio',\n",
       " 'para',\n",
       " 'pasado',\n",
       " 'patrullajes',\n",
       " 'personal',\n",
       " 'perteneciente',\n",
       " 'población',\n",
       " 'por',\n",
       " 'protección',\n",
       " 'puntos',\n",
       " 'que',\n",
       " 'quedarán',\n",
       " 'realizarán',\n",
       " 'reforzar',\n",
       " 'restablezca',\n",
       " 'se',\n",
       " 'sea',\n",
       " 'secretaría',\n",
       " 'sedena',\n",
       " 'sedenamx',\n",
       " 'seguridad',\n",
       " 'terminó',\n",
       " 'tiempo',\n",
       " 'tranquilidad',\n",
       " 'un',\n",
       " 'uno',\n",
       " 'vales',\n",
       " 'viernes',\n",
       " 'vigilancia',\n",
       " 'violenta',\n",
       " 'violento']"
      ]
     },
     "execution_count": 11,
     "metadata": {},
     "output_type": "execute_result"
    }
   ],
   "source": [
    "frecuencias.columns.tolist()"
   ]
  },
  {
   "cell_type": "code",
   "execution_count": 12,
   "metadata": {},
   "outputs": [
    {
     "data": {
      "text/plain": [
       "1"
      ]
     },
     "execution_count": 12,
     "metadata": {},
     "output_type": "execute_result"
    }
   ],
   "source": [
    "frecuencias.iloc[2]['aldama']"
   ]
  },
  {
   "cell_type": "code",
   "execution_count": 15,
   "metadata": {},
   "outputs": [
    {
     "data": {
      "text/plain": [
       "<matplotlib.colorbar.Colorbar at 0x7f84e9bb9908>"
      ]
     },
     "execution_count": 15,
     "metadata": {},
     "output_type": "execute_result"
    },
    {
     "data": {
      "image/png": "[encoded data removed]",
      "text/plain": [
       "<Figure size 1440x720 with 2 Axes>"
      ]
     },
     "metadata": {
      "needs_background": "light"
     },
     "output_type": "display_data"
    }
   ],
   "source": [
    "import matplotlib.pyplot as plt\n",
    "plt.figure(figsize=(20,10))\n",
    "plt.imshow(salida)\n",
    "plt.colorbar()"
   ]
  },
  {
   "cell_type": "code",
   "execution_count": 14,
   "metadata": {},
   "outputs": [
    {
     "ename": "NameError",
     "evalue": "name 'blabla' is not defined",
     "output_type": "error",
     "traceback": [
      "\u001b[0;31m---------------------------------------------------------------------------\u001b[0m",
      "\u001b[0;31mNameError\u001b[0m                                 Traceback (most recent call last)",
      "\u001b[0;32m<ipython-input-14-7b7478566d47>\u001b[0m in \u001b[0;36m<module>\u001b[0;34m()\u001b[0m\n\u001b[0;32m----> 1\u001b[0;31m \u001b[0mplt\u001b[0m\u001b[0;34m.\u001b[0m\u001b[0mylabel\u001b[0m\u001b[0;34m(\u001b[0m\u001b[0mblabla\u001b[0m\u001b[0;34m)\u001b[0m\u001b[0;34m\u001b[0m\u001b[0;34m\u001b[0m\u001b[0m\n\u001b[0m\u001b[1;32m      2\u001b[0m \u001b[0mplt\u001b[0m\u001b[0;34m.\u001b[0m\u001b[0mshow\u001b[0m\u001b[0;34m(\u001b[0m\u001b[0;34m)\u001b[0m\u001b[0;34m\u001b[0m\u001b[0;34m\u001b[0m\u001b[0m\n",
      "\u001b[0;31mNameError\u001b[0m: name 'blabla' is not defined"
     ]
    }
   ],
   "source": [
    "plt.ylabel(blabla)\n",
    "plt.show()"
   ]
  },
  {
   "cell_type": "code",
   "execution_count": null,
   "metadata": {},
   "outputs": [],
   "source": []
  }
 ],
 "metadata": {
  "kernelspec": {
   "display_name": "Python 3",
   "language": "python",
   "name": "python3"
  },
  "language_info": {
   "codemirror_mode": {
    "name": "ipython",
    "version": 3
   },
   "file_extension": ".py",
   "mimetype": "text/x-python",
   "name": "python",
   "nbconvert_exporter": "python",
   "pygments_lexer": "ipython3",
   "version": "3.7.3"
  }
 },
 "nbformat": 4,
 "nbformat_minor": 2
}
