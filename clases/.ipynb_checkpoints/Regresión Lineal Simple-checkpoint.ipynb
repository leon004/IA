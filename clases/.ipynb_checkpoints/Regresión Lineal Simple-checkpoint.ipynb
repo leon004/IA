{
 "cells": [
  {
   "cell_type": "markdown",
   "metadata": {},
   "source": [
    "# Regresión Lineal\n",
    "\n",
    "La regresión lineal es una técnica paramétrica de machine learning. Con «paramétrica» queremos decir que incluso antes de mirar a los datos, ya sabemos cuántos parámetros (o coeficientes) vamos a necesitar.\n",
    "\n",
    "En el caso que estemos usando una sola variable, x, sabemos que una línea necesita 2 parámetros. La fórmula para la regresión lineal con una sola variable x es:"
   ]
  },
  {
   "cell_type": "markdown",
   "metadata": {},
   "source": [
    "$$y=wx+b$$"
   ]
  },
  {
   "cell_type": "markdown",
   "metadata": {},
   "source": [
    "El aprendizaje consiste en encontrar cuáles son los mejores parámetros (coeficientes) para los datos que tengamos. Los mejores coeficientes serán los que minimicen alguna medida de error. Para la regresión lineal usaremos el error cuadrático medio."
   ]
  },
  {
   "cell_type": "markdown",
   "metadata": {},
   "source": [
    "# Error Cuadratico Medio"
   ]
  },
  {
   "cell_type": "markdown",
   "metadata": {},
   "source": [
    "El Error Cuadrático Medio es el criterio de evaluación más usado para problemas de regresión. Se usa sobre todo cuando usamos aprendizaje automático supervisado. Para cada dato histórico podremos indicar el resultado correcto. Vamos a ver como se calcula."
   ]
  },
  {
   "cell_type": "markdown",
   "metadata": {},
   "source": [
    "## Cálculo del Error Cuadrático Medio"
   ]
  },
  {
   "cell_type": "markdown",
   "metadata": {},
   "source": [
    "Vamos a calcular el error cuadrático medio con un ejemplo. En la figura vemos que estamos usando una regresión lineal (en azul) para estimar los datos que tenemos (los puntos verdes). El modelo lineal tiene un error (en rojo) que podemos definir con la siguiente fórmula:"
   ]
  },
  {
   "cell_type": "markdown",
   "metadata": {},
   "source": [
    "$$error cuadratico = (real-estimado)^{2}$$"
   ]
  },
  {
   "cell_type": "markdown",
   "metadata": {},
   "source": [
    "El valor estimado es el valor que nos da el modelo. En este caso, la línea azul.\n",
    "\n",
    "Calculamos el error al cuadrado, en lugar del error simple, para que el error siempre sea positivo. De esta forma sabemos que el error perfecto es 0. Si no elevásemos el error al cuadrado, unas veces el error sería positivo y otras negativo. Otra posibilidad sería usar el valor absoluto, en lugar de elevarlo al cuadrado. Sin embargo, si usamos el valor absoluto, obtendremos una función no-derivable.\n",
    "\n",
    "Ahora que sabemos cómo calcular el error en cada punto, podemos calcular cual es el error medio. Para ello, sumamos todos los errores y los dividimos entre el número total de puntos. Si llamamos M al número total de puntos nos queda la fórmula del Error Cuadrático Medio (MSE, por sus siglas en inglés, Mean Squared Error):\n",
    "\n",
    "\n",
    "<img src='cu.png'>\n",
    "\n",
    "\n"
   ]
  },
  {
   "cell_type": "markdown",
   "metadata": {},
   "source": [
    "$$MSE = \\frac{1}{M}\\sum_{i=1}^{M}(real_i - estimado_i)^{2}  $$"
   ]
  },
  {
   "cell_type": "markdown",
   "metadata": {},
   "source": [
    "## Ejemplo de Regresión Lineal"
   ]
  },
  {
   "cell_type": "markdown",
   "metadata": {},
   "source": [
    "Hemos usado una regresión lineal para encontrar los parámetros de la línea que minimiza el error de los datos que tenemos. El proceso de aprendizaje consiste en estimar los parámetros w y b. Así nos queda que para estos datos, los mejores valores son: \n",
    "\n",
    "$$\n",
    "w=0.0918 \\\\\n",
    "b=1.2859\n",
    "$$\n",
    "\n",
    "así que nos queda:\n",
    "\n",
    "$$y=0.0918x+1.2859\\\\ $$\n",
    "\n",
    "\n",
    "Podemos usar este modelo de regresión lineal para estimar cuáles serán los resultados para otros valores de x. Por ejemplo, si queremos saber el resultado para x = 5, usaremos el modelo anterior y veremos que el resultado es 1.7449:\n",
    "\n",
    "\n",
    "$$ y=0.0918⋅5+1.2859=1.7449 $$\n",
    "\n",
    "\n",
    "Este es un ejemplo muy simple. En realidad, los problemas de machine learning tienen muchas más variables. \n"
   ]
  },
  {
   "cell_type": "markdown",
   "metadata": {},
   "source": [
    "## Notación\n",
    "Antes de explicar el método de los mínimos cuadrados para resolver regresiones lineales, tenemos que expandir la notación. Debemos tener en cuenta que normalmente, tendremos muchas variables.\n",
    "\n",
    "Con una variable, la ecuación para la regresión lineal es:\n",
    "\n",
    "$$y=wx+b$$\n",
    "\n",
    "Por conveniencia, vamos a reescribir la ecuación anterior:\n",
    "\n",
    "$$y=b+wx$$\n",
    "\n",
    "\n",
    "Cuando tengamos un dato con N variables, llamaremos al dato X. También tenemos que expandir los parámetros W para que cada parámetro vaya con una variable:\n",
    "\n",
    "$$ X=[x_0,x_1,x_2,…,xN]\\\\ $$\n",
    "$$ W=[w_0,w_1,w_2,…,wN]\\\\ $$\n",
    "\n",
    "Si hacemos que\n",
    "\n",
    " $$x_0=1,w_0=b\\\\$$\n",
    "nos queda una expresión equivalente a la original. Podemos ver que:\n",
    "\n",
    "$$y=b+wx=w_0x_0+w_1x_1$$\n",
    "Para el caso general, la ecuación lineal quedaría:\n",
    "\n",
    "$$y=WX$$\n",
    "\n",
    "usando el producto matricial. Si tienes la multiplicación de matrices un poco oxidada, la versión intuitiva sería:\n",
    "\n",
    "$$y=w_0 x_0 + w_1 x_1 + w_2 x_2 +…+ w_N x_N $$\n",
    "\n",
    "## Formato de los datos\n",
    "Para que la técnica de regresión lineal pueda aprender de nuestros datos, tenemos que proporcionar los resultados y en forma de vector de M elementos, y los datos de entrada X en forma de matrix. El convenio para la matriz X es el siguiente:\n",
    "\n",
    "- M filas: cada fila es un dato (por ejemplo, un    inmueble, si queremos predecir su valor de venta)\n",
    "\n",
    "- N columnas: cada columna es un atributo relevante  (por ejemplo, cuántas habitaciones tiene, metros cuadrados, etc).\n"
   ]
  },
  {
   "cell_type": "markdown",
   "metadata": {},
   "source": [
    "## Aprendizaje: El método de los mínimos cuadrados\n",
    "\n",
    "El proceso de aprendizaje consiste en averiguar qué parámetros W minimizan el error cuadrático medio entre los resultados reales y los estimados.\n",
    "\n",
    "El método de los mínimos cuadrados proporciona una solución analítica. Es decir, nos da una fórmula para obtener la mejor estimación posible de W para los datos de entrada y resultados que hemos proporcionado. La fórmula es la siguiente:\n",
    "\n",
    "$$\\overbrace{W} = (X^{T} X)^{-1} X^{T}y $$\n"
   ]
  },
  {
   "cell_type": "code",
   "execution_count": 1,
   "metadata": {},
   "outputs": [
    {
     "name": "stdout",
     "output_type": "stream",
     "text": [
      "[ 0.   0.5  1.   1.5  2.   2.5  3.   3.5  4.   4.5  5.   5.5  6.   6.5\n",
      "  7.   7.5  8.   8.5  9.   9.5 10.  10.5 11.  11.5 12.  12.5 13.  13.5\n",
      " 14.  14.5 15.  15.5 16.  16.5 17.  17.5 18.  18.5 19.  19.5]\n",
      "[1.34934283 1.27234714 1.47953771 1.70460597 1.40316933 1.45317261\n",
      " 1.86584256 1.75348695 1.55610512 1.80851201 1.65731646 1.70685405\n",
      " 1.89839245 1.51734395 1.60501643 1.88754249 1.84743378 2.16284947\n",
      " 1.96839518 1.91753926 2.54312975 2.25484474 2.36350564 2.11505036\n",
      " 2.34112346 2.52218452 2.31980128 2.6751396  2.52987226 2.64166125\n",
      " 2.62965868 3.17045564 2.84730056 2.68845781 3.11450898 2.75583127\n",
      " 3.09177272 2.70806598 2.88436279 3.23937225]\n",
      "[1.28587925 0.09183522]\n"
     ]
    },
    {
     "data": {
      "text/plain": [
       "[<matplotlib.lines.Line2D at 0x7f431f876dd8>]"
      ]
     },
     "execution_count": 1,
     "metadata": {},
     "output_type": "execute_result"
    },
    {
     "data": {
      "image/png": "[encoded data removed]",
      "text/plain": [
       "<Figure size 432x288 with 1 Axes>"
      ]
     },
     "metadata": {
      "needs_background": "light"
     },
     "output_type": "display_data"
    }
   ],
   "source": [
    "import numpy as np \n",
    "import matplotlib.pyplot as plt\n",
    "\n",
    "%matplotlib inline\n",
    "\n",
    "from sklearn.linear_model import LinearRegression\n",
    "\n",
    "def f(x):\n",
    "    np.random.seed(42)\n",
    "    y=0.1*x +1.25 + 0.2*np.random.randn(x.shape[0])\n",
    "    return y\n",
    "\n",
    "x =np.arange(0,20,0.5)\n",
    "y = f(x)\n",
    "print(x)\n",
    "print(y)\n",
    "plt.scatter(x,y, label='data',alpha=0.3, color='blue')\n",
    "plt.title('Datos')\n",
    "x=np.array([np.ones(40),x]).T\n",
    "B =np.linalg.inv(x.T @ x)@ x.T @ y\n",
    "print(B)\n",
    "plt.plot([1,20],[B[0]+B[1] * 0 , B[0] + B[1]*20 ],c=\"red\")"
   ]
  },
  {
   "cell_type": "markdown",
   "metadata": {},
   "source": [
    "## Entrenando un modelo de Regresión Lineal en python"
   ]
  },
  {
   "cell_type": "code",
   "execution_count": 47,
   "metadata": {},
   "outputs": [
    {
     "name": "stdout",
     "output_type": "stream",
     "text": [
      "[1.28587925 0.09183522]\n"
     ]
    }
   ],
   "source": [
    "x.shape\n",
    "print(B)"
   ]
  },
  {
   "cell_type": "code",
   "execution_count": 43,
   "metadata": {},
   "outputs": [
    {
     "data": {
      "text/plain": [
       "Text(0.5, 1.0, 'Datos')"
      ]
     },
     "execution_count": 43,
     "metadata": {},
     "output_type": "execute_result"
    },
    {
     "data": {
      "image/png": "[encoded data removed]",
      "text/plain": [
       "<Figure size 432x288 with 1 Axes>"
      ]
     },
     "metadata": {
      "needs_background": "light"
     },
     "output_type": "display_data"
    }
   ],
   "source": [
    "import numpy as np \n",
    "import matplotlib.pyplot as plt\n",
    "\n",
    "%matplotlib inline\n",
    "\n",
    "from sklearn.linear_model import LinearRegression\n",
    "\n",
    "def f(x):\n",
    "    np.random.seed(42)\n",
    "    y=0.1*x +1.25 + 0.2*np.random.randn(x.shape[0])\n",
    "    return y\n",
    "\n",
    "x =np.arange(0,20,0.5)\n",
    "y = f(x)\n",
    "plt.scatter(x,y, label='data',alpha=0.3, color='blue')\n",
    "plt.title('Datos')\n"
   ]
  },
  {
   "cell_type": "code",
   "execution_count": 44,
   "metadata": {},
   "outputs": [
    {
     "name": "stdout",
     "output_type": "stream",
     "text": [
      "w = [0.09183522], b = 1.2858792525736682\n"
     ]
    }
   ],
   "source": [
    "# Importamos la clase de Regresión Lineal de scikit-learn\n",
    "from sklearn.linear_model import LinearRegression \n",
    "regresion_lineal = LinearRegression() # creamos una instancia de LinearRegression\n",
    "# instruimos a la regresión lineal que aprenda de los datos (x,y)\n",
    "regresion_lineal.fit(x.reshape(-1,1), y) \n",
    "# vemos los parámetros que ha estimado la regresión lineal\n",
    "print('w = ' + str(regresion_lineal.coef_) + ', b = ' + str(regresion_lineal.intercept_))\n",
    "# resultado: w = [0.09183522], b = 1.2858792525736682"
   ]
  },
  {
   "cell_type": "code",
   "execution_count": 45,
   "metadata": {},
   "outputs": [
    {
     "name": "stdout",
     "output_type": "stream",
     "text": [
      "[1.74505534]\n"
     ]
    }
   ],
   "source": [
    "# vamos a predicir y = regresion_lineal(5)\n",
    "nuevo_x = np.array([5]) \n",
    "prediccion = regresion_lineal.predict(nuevo_x.reshape(-1,1))\n",
    "print(prediccion)"
   ]
  },
  {
   "cell_type": "code",
   "execution_count": 46,
   "metadata": {},
   "outputs": [
    {
     "name": "stdout",
     "output_type": "stream",
     "text": [
      "Error Cuadrático Medio (MSE) = 0.03318522012927899\n",
      "Raíz del Error Cuadrático Medio (RMSE) = 0.18216810952875093\n"
     ]
    }
   ],
   "source": [
    "# importamos el cálculo del error cuadrático medio (MSE)\n",
    "from sklearn.metrics import mean_squared_error\n",
    "# Predecimos los valores y para los datos usados en el entrenamiento\n",
    "prediccion_entrenamiento = regresion_lineal.predict(x.reshape(-1,1))\n",
    "# Calculamos el Error Cuadrático Medio (MSE = Mean Squared Error)\n",
    "mse = mean_squared_error(y_true = y, y_pred = prediccion_entrenamiento)\n",
    "# La raíz cuadrada del MSE es el RMSE\n",
    "rmse = np.sqrt(mse)\n",
    "print('Error Cuadrático Medio (MSE) = ' + str(mse))\n",
    "print('Raíz del Error Cuadrático Medio (RMSE) = ' + str(rmse))"
   ]
  },
  {
   "cell_type": "code",
   "execution_count": 48,
   "metadata": {},
   "outputs": [
    {
     "name": "stdout",
     "output_type": "stream",
     "text": [
      "Coeficiente de Determinación R2 = 0.8943593637683118\n"
     ]
    }
   ],
   "source": [
    "r2 = regresion_lineal.score(x.reshape(-1,1), y)\n",
    "print('Coeficiente de Determinación R2 = ' + str(r2))"
   ]
  },
  {
   "cell_type": "code",
   "execution_count": null,
   "metadata": {},
   "outputs": [],
   "source": []
  }
 ],
 "metadata": {
  "kernelspec": {
   "display_name": "Python 3",
   "language": "python",
   "name": "python3"
  },
  "language_info": {
   "codemirror_mode": {
    "name": "ipython",
    "version": 3
   },
   "file_extension": ".py",
   "mimetype": "text/x-python",
   "name": "python",
   "nbconvert_exporter": "python",
   "pygments_lexer": "ipython3",
   "version": "3.7.3"
  }
 },
 "nbformat": 4,
 "nbformat_minor": 2
}
