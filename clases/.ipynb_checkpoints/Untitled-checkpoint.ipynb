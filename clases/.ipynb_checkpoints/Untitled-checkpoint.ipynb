{
 "cells": [
  {
   "cell_type": "code",
   "execution_count": 1,
   "metadata": {},
   "outputs": [],
   "source": [
    "import nltk\n"
   ]
  },
  {
   "cell_type": "code",
   "execution_count": 2,
   "metadata": {
    "collapsed": true
   },
   "outputs": [],
   "source": [
    "def cargaDePreguntas(archivo):\n",
    "    f = open(archivo, \"r\")\n",
    "    texto = f.read()\n",
    "    print(\"Archivo leido:\", texto) "
   ]
  },
  {
   "cell_type": "code",
   "execution_count": 6,
   "metadata": {},
   "outputs": [
    {
     "name": "stdout",
     "output_type": "stream",
     "text": [
      "Archivo leido: requiero información del servicio social.\n",
      "necesito comer algo sabroso.\n",
      "donde puedo obtener informacion de residencias profesionales. \n",
      "cuando son las inscripciones.\n",
      "donde estan los sanitarios .\n",
      "\n",
      "Archivo leido  None\n"
     ]
    }
   ],
   "source": [
    "txt = cargaDePreguntas(\"preg.txt\")\n",
    "print(\"Archivo leido \", txt)"
   ]
  },
  {
   "cell_type": "code",
   "execution_count": null,
   "metadata": {
    "collapsed": true
   },
   "outputs": [],
   "source": []
  }
 ],
 "metadata": {
  "kernelspec": {
   "display_name": "Python 3",
   "language": "python",
   "name": "python3"
  },
  "language_info": {
   "codemirror_mode": {
    "name": "ipython",
    "version": 3
   },
   "file_extension": ".py",
   "mimetype": "text/x-python",
   "name": "python",
   "nbconvert_exporter": "python",
   "pygments_lexer": "ipython3",
   "version": "3.7.3"
  }
 },
 "nbformat": 4,
 "nbformat_minor": 2
}
